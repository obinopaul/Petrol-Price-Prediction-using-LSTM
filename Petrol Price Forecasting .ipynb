{
 "cells": [
  {
   "cell_type": "code",
   "execution_count": 37,
   "metadata": {},
   "outputs": [],
   "source": [
    "# Open VSCode and create a new project folder for your machine learning project.\n",
    "# Open the terminal in VSCode by going to Terminal > New Terminal.\n",
    "# Create a new environment using conda or pip. For example, to create a new environment with conda:\n",
    "#     conda create --name myenv\n",
    "#     conda activate myenv\n",
    "# Install the necessary packages for your machine learning project. For example, to install scikit-learn:\n",
    "#     conda install pandas numpy scikit-learn flask\n",
    "#     pip install -r requirements.txt             use this if you had initially loaded some packages to the file\n",
    "# Export the dependencies of your project by running the command:\n",
    "#     pip freeze > requirements.txt"
   ]
  },
  {
   "attachments": {},
   "cell_type": "markdown",
   "metadata": {},
   "source": [
    "<br>Table of Content:\n",
    "* [Import Libraries](#1)\n",
    "* [Load Data](#2)\n",
    "* [Exploratory Data Analysis (EDA)](#3)\n",
    "* [Building the Model](#4)\n",
    "* [Saving the Model](#5) \n",
    "* [Deploy the Model](#6) "
   ]
  },
  {
   "attachments": {},
   "cell_type": "markdown",
   "metadata": {},
   "source": [
    "<a id=\"1\"></a> <br>\n",
    "## Import Libraries"
   ]
  },
  {
   "cell_type": "code",
   "execution_count": 38,
   "metadata": {},
   "outputs": [],
   "source": [
    "# Data Analysis      \n",
    "import pandas as pd          # data analysis library for handling structured data  \n",
    "# import modin.pandas as pd       # Speed up your Pandas workflows \n",
    "from pandas import DataFrame            \n",
    "import numpy as np           # mathematical library for working with numerical data\n",
    "import ydata_profiling  #for auto EDA\n",
    "import datetime \n",
    "import dtale        #for auto Exploratory Data Analysis\n",
    "\n",
    "# Visualization\n",
    "import matplotlib.pyplot as plt     # data visualization library for creating graphs and charts\n",
    "%matplotlib inline\n",
    "import seaborn as sns        # data visualization library based on matplotlib for creating more attractive visualizations\n",
    "import plotly.io as pio\n",
    "import plotly.express as px   # interactive data visualization library\n",
    "import plotly.graph_objects as go   # library for creating interactive graphs and charts\n",
    "import kaleido \n",
    "\n",
    "\n",
    "# Machine Learning/Time Series \n",
    "import evalml \n",
    "import tensorflow as tf\n",
    "from sklearn.preprocessing import LabelEncoder, MinMaxScaler, StandardScaler, OrdinalEncoder, OneHotEncoder # Preprocessing feature scaling/categorical encoding\n",
    "\n",
    "#ML - Tune your model\n",
    "from sklearn.model_selection import GridSearchCV, RandomizedSearchCV\n",
    "\n",
    "\n",
    "# Ignore warnings\n",
    "import warnings\n",
    "warnings.filterwarnings(\"ignore\") \n",
    "\n",
    "pd.set_option('display.max_rows', 15)\n",
    "pd.set_option('display.max_columns', 500)\n",
    "pd.set_option('display.width', 1000)"
   ]
  },
  {
   "attachments": {},
   "cell_type": "markdown",
   "metadata": {},
   "source": [
    "<a id=\"2\"></a> <br>\n",
    "## Load Data"
   ]
  },
  {
   "cell_type": "code",
   "execution_count": 39,
   "metadata": {},
   "outputs": [],
   "source": [
    "train_df = pd.read_csv(\"Dataset/raw/train_data.csv\", infer_datetime_format=True, parse_dates=[\"Date\"])\n",
    "test_df = pd.read_csv(\"Dataset/raw/test_data.csv\", infer_datetime_format=True, parse_dates=[\"Date\"])"
   ]
  },
  {
   "cell_type": "code",
   "execution_count": 40,
   "metadata": {},
   "outputs": [
    {
     "data": {
      "text/html": [
       "<div>\n",
       "<style scoped>\n",
       "    .dataframe tbody tr th:only-of-type {\n",
       "        vertical-align: middle;\n",
       "    }\n",
       "\n",
       "    .dataframe tbody tr th {\n",
       "        vertical-align: top;\n",
       "    }\n",
       "\n",
       "    .dataframe thead th {\n",
       "        text-align: right;\n",
       "    }\n",
       "</style>\n",
       "<table border=\"1\" class=\"dataframe\">\n",
       "  <thead>\n",
       "    <tr style=\"text-align: right;\">\n",
       "      <th></th>\n",
       "      <th>Petrol (USD)</th>\n",
       "    </tr>\n",
       "    <tr>\n",
       "      <th>Date</th>\n",
       "      <th></th>\n",
       "    </tr>\n",
       "  </thead>\n",
       "  <tbody>\n",
       "    <tr>\n",
       "      <th>2003-06-09</th>\n",
       "      <td>74.59</td>\n",
       "    </tr>\n",
       "    <tr>\n",
       "      <th>2003-06-16</th>\n",
       "      <td>74.47</td>\n",
       "    </tr>\n",
       "    <tr>\n",
       "      <th>2003-06-23</th>\n",
       "      <td>74.42</td>\n",
       "    </tr>\n",
       "    <tr>\n",
       "      <th>2003-06-30</th>\n",
       "      <td>74.35</td>\n",
       "    </tr>\n",
       "    <tr>\n",
       "      <th>2003-07-07</th>\n",
       "      <td>74.28</td>\n",
       "    </tr>\n",
       "  </tbody>\n",
       "</table>\n",
       "</div>"
      ],
      "text/plain": [
       "            Petrol (USD)\n",
       "Date                    \n",
       "2003-06-09         74.59\n",
       "2003-06-16         74.47\n",
       "2003-06-23         74.42\n",
       "2003-06-30         74.35\n",
       "2003-07-07         74.28"
      ]
     },
     "execution_count": 40,
     "metadata": {},
     "output_type": "execute_result"
    }
   ],
   "source": [
    "train_df.set_index(\"Date\", inplace=True)\n",
    "test_df.set_index(\"Date\", inplace=True)\n",
    "\n",
    "\n",
    "train_df.head()"
   ]
  },
  {
   "cell_type": "code",
   "execution_count": 41,
   "metadata": {},
   "outputs": [
    {
     "data": {
      "text/html": [
       "<div>\n",
       "<style scoped>\n",
       "    .dataframe tbody tr th:only-of-type {\n",
       "        vertical-align: middle;\n",
       "    }\n",
       "\n",
       "    .dataframe tbody tr th {\n",
       "        vertical-align: top;\n",
       "    }\n",
       "\n",
       "    .dataframe thead th {\n",
       "        text-align: right;\n",
       "    }\n",
       "</style>\n",
       "<table border=\"1\" class=\"dataframe\">\n",
       "  <thead>\n",
       "    <tr style=\"text-align: right;\">\n",
       "      <th></th>\n",
       "      <th>Prediction</th>\n",
       "    </tr>\n",
       "    <tr>\n",
       "      <th>Date</th>\n",
       "      <th></th>\n",
       "    </tr>\n",
       "  </thead>\n",
       "  <tbody>\n",
       "    <tr>\n",
       "      <th>2019-01-01</th>\n",
       "      <td>NaN</td>\n",
       "    </tr>\n",
       "    <tr>\n",
       "      <th>2019-01-02</th>\n",
       "      <td>NaN</td>\n",
       "    </tr>\n",
       "    <tr>\n",
       "      <th>2019-01-03</th>\n",
       "      <td>NaN</td>\n",
       "    </tr>\n",
       "    <tr>\n",
       "      <th>2019-01-04</th>\n",
       "      <td>NaN</td>\n",
       "    </tr>\n",
       "    <tr>\n",
       "      <th>2019-01-05</th>\n",
       "      <td>NaN</td>\n",
       "    </tr>\n",
       "    <tr>\n",
       "      <th>...</th>\n",
       "      <td>...</td>\n",
       "    </tr>\n",
       "    <tr>\n",
       "      <th>2019-01-12</th>\n",
       "      <td>NaN</td>\n",
       "    </tr>\n",
       "    <tr>\n",
       "      <th>2020-01-01</th>\n",
       "      <td>NaN</td>\n",
       "    </tr>\n",
       "    <tr>\n",
       "      <th>2020-01-02</th>\n",
       "      <td>NaN</td>\n",
       "    </tr>\n",
       "    <tr>\n",
       "      <th>2020-01-03</th>\n",
       "      <td>NaN</td>\n",
       "    </tr>\n",
       "    <tr>\n",
       "      <th>2020-01-04</th>\n",
       "      <td>NaN</td>\n",
       "    </tr>\n",
       "  </tbody>\n",
       "</table>\n",
       "<p>16 rows × 1 columns</p>\n",
       "</div>"
      ],
      "text/plain": [
       "            Prediction\n",
       "Date                  \n",
       "2019-01-01         NaN\n",
       "2019-01-02         NaN\n",
       "2019-01-03         NaN\n",
       "2019-01-04         NaN\n",
       "2019-01-05         NaN\n",
       "...                ...\n",
       "2019-01-12         NaN\n",
       "2020-01-01         NaN\n",
       "2020-01-02         NaN\n",
       "2020-01-03         NaN\n",
       "2020-01-04         NaN\n",
       "\n",
       "[16 rows x 1 columns]"
      ]
     },
     "execution_count": 41,
     "metadata": {},
     "output_type": "execute_result"
    }
   ],
   "source": [
    "test_df"
   ]
  },
  {
   "cell_type": "code",
   "execution_count": 42,
   "metadata": {},
   "outputs": [
    {
     "data": {
      "image/png": "[encoded data removed]",
      "text/plain": [
       "<Figure size 640x480 with 1 Axes>"
      ]
     },
     "metadata": {},
     "output_type": "display_data"
    }
   ],
   "source": [
    "train_df.plot()\n",
    "plt.savefig('Images/time_series_plot.png') "
   ]
  },
  {
   "attachments": {},
   "cell_type": "markdown",
   "metadata": {},
   "source": [
    ">> Data DESCR"
   ]
  },
  {
   "cell_type": "code",
   "execution_count": 43,
   "metadata": {},
   "outputs": [
    {
     "data": {
      "text/html": [
       "<div>\n",
       "<style scoped>\n",
       "    .dataframe tbody tr th:only-of-type {\n",
       "        vertical-align: middle;\n",
       "    }\n",
       "\n",
       "    .dataframe tbody tr th {\n",
       "        vertical-align: top;\n",
       "    }\n",
       "\n",
       "    .dataframe thead th {\n",
       "        text-align: right;\n",
       "    }\n",
       "</style>\n",
       "<table border=\"1\" class=\"dataframe\">\n",
       "  <thead>\n",
       "    <tr style=\"text-align: right;\">\n",
       "      <th></th>\n",
       "      <th>count</th>\n",
       "      <th>mean</th>\n",
       "      <th>std</th>\n",
       "      <th>min</th>\n",
       "      <th>25%</th>\n",
       "      <th>50%</th>\n",
       "      <th>75%</th>\n",
       "      <th>max</th>\n",
       "    </tr>\n",
       "  </thead>\n",
       "  <tbody>\n",
       "    <tr>\n",
       "      <th>Petrol (USD)</th>\n",
       "      <td>811.0</td>\n",
       "      <td>110.330481</td>\n",
       "      <td>19.241182</td>\n",
       "      <td>74.21</td>\n",
       "      <td>94.525</td>\n",
       "      <td>112.42</td>\n",
       "      <td>128.56</td>\n",
       "      <td>189.51</td>\n",
       "    </tr>\n",
       "  </tbody>\n",
       "</table>\n",
       "</div>"
      ],
      "text/plain": [
       "              count        mean        std    min     25%     50%     75%     max\n",
       "Petrol (USD)  811.0  110.330481  19.241182  74.21  94.525  112.42  128.56  189.51"
      ]
     },
     "execution_count": 43,
     "metadata": {},
     "output_type": "execute_result"
    }
   ],
   "source": [
    "train_df.describe().T"
   ]
  },
  {
   "cell_type": "code",
   "execution_count": 44,
   "metadata": {},
   "outputs": [
    {
     "name": "stdout",
     "output_type": "stream",
     "text": [
      "<class 'pandas.core.frame.DataFrame'>\n",
      "DatetimeIndex: 813 entries, 2003-06-09 to 2018-12-31\n",
      "Data columns (total 1 columns):\n",
      " #   Column        Non-Null Count  Dtype  \n",
      "---  ------        --------------  -----  \n",
      " 0   Petrol (USD)  811 non-null    float64\n",
      "dtypes: float64(1)\n",
      "memory usage: 12.7 KB\n"
     ]
    }
   ],
   "source": [
    "train_df.info() "
   ]
  },
  {
   "attachments": {},
   "cell_type": "markdown",
   "metadata": {},
   "source": [
    "<a id=\"3\"></a> <br>\n",
    "## Exploratory Data Analysis (EDA)"
   ]
  },
  {
   "attachments": {},
   "cell_type": "markdown",
   "metadata": {},
   "source": [
    ">> Data Profiling"
   ]
  },
  {
   "cell_type": "code",
   "execution_count": 45,
   "metadata": {},
   "outputs": [
    {
     "data": {
      "application/vnd.jupyter.widget-view+json": {
       "model_id": "71d5f67621b54185bd10009d83b40513",
       "version_major": 2,
       "version_minor": 0
      },
      "text/plain": [
       "Summarize dataset:   0%|          | 0/5 [00:00<?, ?it/s]"
      ]
     },
     "metadata": {},
     "output_type": "display_data"
    },
    {
     "data": {
      "application/vnd.jupyter.widget-view+json": {
       "model_id": "6934c23216094f2e9c920b8149fbcd4c",
       "version_major": 2,
       "version_minor": 0
      },
      "text/plain": [
       "Generate report structure:   0%|          | 0/1 [00:00<?, ?it/s]"
      ]
     },
     "metadata": {},
     "output_type": "display_data"
    },
    {
     "data": {
      "application/vnd.jupyter.widget-view+json": {
       "model_id": "42265eaa3b7d4de3bc0fc6406beabe20",
       "version_major": 2,
       "version_minor": 0
      },
      "text/plain": [
       "Render HTML:   0%|          | 0/1 [00:00<?, ?it/s]"
      ]
     },
     "metadata": {},
     "output_type": "display_data"
    },
    {
     "data": {
      "application/vnd.jupyter.widget-view+json": {
       "model_id": "51e65d7402a84d00b9a955de19acb031",
       "version_major": 2,
       "version_minor": 0
      },
      "text/plain": [
       "Export report to file:   0%|          | 0/1 [00:00<?, ?it/s]"
      ]
     },
     "metadata": {},
     "output_type": "display_data"
    },
    {
     "name": "stdout",
     "output_type": "stream",
     "text": [
      "Data profiling done\n"
     ]
    }
   ],
   "source": [
    "def do_data_profiling(df, filename):\n",
    "    '''\n",
    "    Function to do basic data profiling\n",
    "    Required Input - \n",
    "        - df = Pandas DataFrame\n",
    "        - filename = Path for output file with a .html extension\n",
    "    Expected Output -\n",
    "        - HTML file with data profiling summary\n",
    "    '''\n",
    "    profile = ydata_profiling.ProfileReport(df) #replacing pandas_profiling with ydata_profiling\n",
    "    profile.to_file(output_file = filename)\n",
    "    print(\"Data profiling done\")\n",
    "\n",
    "do_data_profiling(train_df, 'data_profiling.html') "
   ]
  },
  {
   "cell_type": "code",
   "execution_count": 46,
   "metadata": {},
   "outputs": [],
   "source": [
    "#findings from data profiling:\n",
    "\n",
    "# Missing cells\t2\n",
    "# Duplicate rows\t55 (6.8%)   #this doesn't really matter in this context\n"
   ]
  },
  {
   "attachments": {},
   "cell_type": "markdown",
   "metadata": {},
   "source": [
    ">> Auto EDA using dtale"
   ]
  },
  {
   "cell_type": "code",
   "execution_count": 47,
   "metadata": {},
   "outputs": [
    {
     "data": {
      "text/html": [
       "\n",
       "        <iframe\n",
       "            width=\"100%\"\n",
       "            height=\"475\"\n",
       "            src=\"http://Cornel:40000/dtale/iframe/2\"\n",
       "            frameborder=\"0\"\n",
       "            allowfullscreen\n",
       "            \n",
       "        ></iframe>\n",
       "        "
      ],
      "text/plain": [
       "<IPython.lib.display.IFrame at 0x25e6941f7c0>"
      ]
     },
     "metadata": {},
     "output_type": "display_data"
    },
    {
     "data": {
      "text/plain": []
     },
     "execution_count": 47,
     "metadata": {},
     "output_type": "execute_result"
    }
   ],
   "source": [
    "dtale.show(train_df) "
   ]
  },
  {
   "cell_type": "code",
   "execution_count": 48,
   "metadata": {},
   "outputs": [
    {
     "data": {
      "text/html": [
       "<div>\n",
       "<style scoped>\n",
       "    .dataframe tbody tr th:only-of-type {\n",
       "        vertical-align: middle;\n",
       "    }\n",
       "\n",
       "    .dataframe tbody tr th {\n",
       "        vertical-align: top;\n",
       "    }\n",
       "\n",
       "    .dataframe thead th {\n",
       "        text-align: right;\n",
       "    }\n",
       "</style>\n",
       "<table border=\"1\" class=\"dataframe\">\n",
       "  <thead>\n",
       "    <tr style=\"text-align: right;\">\n",
       "      <th></th>\n",
       "      <th>Prediction</th>\n",
       "    </tr>\n",
       "    <tr>\n",
       "      <th>Date</th>\n",
       "      <th></th>\n",
       "    </tr>\n",
       "  </thead>\n",
       "  <tbody>\n",
       "    <tr>\n",
       "      <th>2019-01-01</th>\n",
       "      <td>NaN</td>\n",
       "    </tr>\n",
       "    <tr>\n",
       "      <th>2019-01-02</th>\n",
       "      <td>NaN</td>\n",
       "    </tr>\n",
       "    <tr>\n",
       "      <th>2019-01-03</th>\n",
       "      <td>NaN</td>\n",
       "    </tr>\n",
       "    <tr>\n",
       "      <th>2019-01-04</th>\n",
       "      <td>NaN</td>\n",
       "    </tr>\n",
       "    <tr>\n",
       "      <th>2019-01-05</th>\n",
       "      <td>NaN</td>\n",
       "    </tr>\n",
       "  </tbody>\n",
       "</table>\n",
       "</div>"
      ],
      "text/plain": [
       "            Prediction\n",
       "Date                  \n",
       "2019-01-01         NaN\n",
       "2019-01-02         NaN\n",
       "2019-01-03         NaN\n",
       "2019-01-04         NaN\n",
       "2019-01-05         NaN"
      ]
     },
     "execution_count": 48,
     "metadata": {},
     "output_type": "execute_result"
    }
   ],
   "source": [
    "test_df.head()"
   ]
  },
  {
   "attachments": {},
   "cell_type": "markdown",
   "metadata": {},
   "source": [
    ">> Fix NaN"
   ]
  },
  {
   "cell_type": "code",
   "execution_count": 49,
   "metadata": {},
   "outputs": [
    {
     "data": {
      "text/html": [
       "<div>\n",
       "<style scoped>\n",
       "    .dataframe tbody tr th:only-of-type {\n",
       "        vertical-align: middle;\n",
       "    }\n",
       "\n",
       "    .dataframe tbody tr th {\n",
       "        vertical-align: top;\n",
       "    }\n",
       "\n",
       "    .dataframe thead th {\n",
       "        text-align: right;\n",
       "    }\n",
       "</style>\n",
       "<table border=\"1\" class=\"dataframe\">\n",
       "  <thead>\n",
       "    <tr style=\"text-align: right;\">\n",
       "      <th></th>\n",
       "      <th>Petrol (USD)</th>\n",
       "    </tr>\n",
       "    <tr>\n",
       "      <th>Date</th>\n",
       "      <th></th>\n",
       "    </tr>\n",
       "  </thead>\n",
       "  <tbody>\n",
       "    <tr>\n",
       "      <th>2005-10-31</th>\n",
       "      <td>NaN</td>\n",
       "    </tr>\n",
       "    <tr>\n",
       "      <th>2006-11-20</th>\n",
       "      <td>NaN</td>\n",
       "    </tr>\n",
       "  </tbody>\n",
       "</table>\n",
       "</div>"
      ],
      "text/plain": [
       "            Petrol (USD)\n",
       "Date                    \n",
       "2005-10-31           NaN\n",
       "2006-11-20           NaN"
      ]
     },
     "execution_count": 49,
     "metadata": {},
     "output_type": "execute_result"
    }
   ],
   "source": [
    "# count the number of missing values per column\n",
    "# df_train[df_train['Petrol (USD)'].isnull().any()]\n",
    "\n",
    "train_df[train_df['Petrol (USD)'].isnull()]\n"
   ]
  },
  {
   "cell_type": "code",
   "execution_count": 50,
   "metadata": {},
   "outputs": [
    {
     "name": "stdout",
     "output_type": "stream",
     "text": [
      "Filling missing values with forward fill for columns - Petrol (USD)\n"
     ]
    }
   ],
   "source": [
    "#fix missing values\n",
    "from sklearn.impute import SimpleImputer\n",
    "\n",
    "def treat_missing_numeric(df,columns,how = 'mean', value = None):\n",
    "    '''\n",
    "    Function to treat missing values in numeric columns\n",
    "    Required Input - \n",
    "        - df = Pandas DataFrame\n",
    "        - columns = List input of all the columns need to be imputed\n",
    "        - how = valid values are 'mean', 'mode', 'median','ffill', numeric value\n",
    "    Expected Output -\n",
    "        - Pandas dataframe with imputed missing value in mentioned columns\n",
    "    '''\n",
    "    if how == 'ffill':\n",
    "        for i in columns:\n",
    "            print(\"Filling missing values with forward fill for columns - {0}\".format(i))\n",
    "            df[i] = df[i].fillna(method ='ffill')\n",
    "    \n",
    "    elif how == 'digit':\n",
    "        for i in columns:\n",
    "            print(\"Filling missing values with {0} for columns - {1}\".format(how, i))\n",
    "            df[i] = df[i].fillna(str(value)) \n",
    "      \n",
    "    else:\n",
    "        print(\"Missing value fill cannot be completed\")\n",
    "    return df\n",
    "\n",
    "train_df = treat_missing_numeric(train_df, [\"Petrol (USD)\"], how=\"ffill\")\n",
    "# df_test = treat_missing_numeric(df_test, [\"Petrol (USD)\"], how=\"ffill\")"
   ]
  },
  {
   "cell_type": "code",
   "execution_count": 51,
   "metadata": {},
   "outputs": [
    {
     "data": {
      "text/plain": [
       "(Petrol (USD)    93.47\n",
       " Name: 2005-10-31 00:00:00, dtype: float64,\n",
       " Petrol (USD)    85.49\n",
       " Name: 2006-11-20 00:00:00, dtype: float64)"
      ]
     },
     "execution_count": 51,
     "metadata": {},
     "output_type": "execute_result"
    }
   ],
   "source": [
    "#verifying the NaN ffill\n",
    "\n",
    "train_df.loc['2005-10-31', :], train_df.loc['2006-11-20']"
   ]
  },
  {
   "attachments": {},
   "cell_type": "markdown",
   "metadata": {},
   "source": [
    ">> Scale"
   ]
  },
  {
   "cell_type": "code",
   "execution_count": 52,
   "metadata": {},
   "outputs": [
    {
     "data": {
      "text/plain": [
       "((813, 2),\n",
       "         Date  Petrol (USD)\n",
       " 0 2003-06-09         74.59\n",
       " 1 2003-06-16         74.47\n",
       " 2 2003-06-23         74.42\n",
       " 3 2003-06-30         74.35\n",
       " 4 2003-07-07         74.28)"
      ]
     },
     "execution_count": 52,
     "metadata": {},
     "output_type": "execute_result"
    }
   ],
   "source": [
    "train_df = train_df.reset_index()\n",
    "\n",
    "train_df.shape, train_df.head()"
   ]
  },
  {
   "cell_type": "code",
   "execution_count": 53,
   "metadata": {},
   "outputs": [],
   "source": [
    "from sklearn.preprocessing import MinMaxScaler\n",
    "\n",
    "scaler = MinMaxScaler(feature_range=(0,1))\n",
    "\n",
    "train_df['Petrol (USD)'] = pd.DataFrame(scaler.fit_transform(train_df.iloc[:, 1:])) "
   ]
  },
  {
   "cell_type": "code",
   "execution_count": 54,
   "metadata": {},
   "outputs": [
    {
     "data": {
      "text/html": [
       "<div>\n",
       "<style scoped>\n",
       "    .dataframe tbody tr th:only-of-type {\n",
       "        vertical-align: middle;\n",
       "    }\n",
       "\n",
       "    .dataframe tbody tr th {\n",
       "        vertical-align: top;\n",
       "    }\n",
       "\n",
       "    .dataframe thead th {\n",
       "        text-align: right;\n",
       "    }\n",
       "</style>\n",
       "<table border=\"1\" class=\"dataframe\">\n",
       "  <thead>\n",
       "    <tr style=\"text-align: right;\">\n",
       "      <th></th>\n",
       "      <th>Date</th>\n",
       "      <th>Petrol (USD)</th>\n",
       "    </tr>\n",
       "  </thead>\n",
       "  <tbody>\n",
       "    <tr>\n",
       "      <th>0</th>\n",
       "      <td>2003-06-09</td>\n",
       "      <td>0.003296</td>\n",
       "    </tr>\n",
       "    <tr>\n",
       "      <th>1</th>\n",
       "      <td>2003-06-16</td>\n",
       "      <td>0.002255</td>\n",
       "    </tr>\n",
       "    <tr>\n",
       "      <th>2</th>\n",
       "      <td>2003-06-23</td>\n",
       "      <td>0.001821</td>\n",
       "    </tr>\n",
       "    <tr>\n",
       "      <th>3</th>\n",
       "      <td>2003-06-30</td>\n",
       "      <td>0.001214</td>\n",
       "    </tr>\n",
       "    <tr>\n",
       "      <th>4</th>\n",
       "      <td>2003-07-07</td>\n",
       "      <td>0.000607</td>\n",
       "    </tr>\n",
       "  </tbody>\n",
       "</table>\n",
       "</div>"
      ],
      "text/plain": [
       "        Date  Petrol (USD)\n",
       "0 2003-06-09      0.003296\n",
       "1 2003-06-16      0.002255\n",
       "2 2003-06-23      0.001821\n",
       "3 2003-06-30      0.001214\n",
       "4 2003-07-07      0.000607"
      ]
     },
     "execution_count": 54,
     "metadata": {},
     "output_type": "execute_result"
    }
   ],
   "source": [
    "train_df.head() "
   ]
  },
  {
   "cell_type": "code",
   "execution_count": 55,
   "metadata": {},
   "outputs": [],
   "source": [
    "# Split data into train and test\n",
    "cutoff = int(len(train_df) * 0.8) # 80% for training \n",
    "train = train_df.iloc[:cutoff] \n",
    "test_df = train_df.iloc[cutoff:] \n",
    "train_df = train \n",
    "\n",
    "#exorting the preprocessed data \n",
    "train_df.to_csv(r'Dataset/processed/train_df.csv', index=False)\n",
    "test_df.to_csv(r'Dataset/processed/test_df.csv', index=False)\n"
   ]
  },
  {
   "attachments": {},
   "cell_type": "markdown",
   "metadata": {},
   "source": [
    "<a id=\"4\"></a> <br>\n",
    "## Building the Model"
   ]
  },
  {
   "attachments": {},
   "cell_type": "markdown",
   "metadata": {},
   "source": [
    ">> Time Step"
   ]
  },
  {
   "cell_type": "code",
   "execution_count": 56,
   "metadata": {},
   "outputs": [
    {
     "data": {
      "text/plain": [
       "((650, 2), (163, 2))"
      ]
     },
     "execution_count": 56,
     "metadata": {},
     "output_type": "execute_result"
    }
   ],
   "source": [
    "train_df.shape, test_df.shape "
   ]
  },
  {
   "cell_type": "code",
   "execution_count": 57,
   "metadata": {},
   "outputs": [],
   "source": [
    "\n",
    "def create_dataset(dataset, time_step=1):\n",
    "    dataX, dataY = [], []\n",
    "    for i in range(len(dataset)-time_step):\n",
    "        a = dataset[i:(i+time_step), 1]\n",
    "        dataX.append(a)\n",
    "        dataY.append(dataset[i + time_step, 1])\n",
    "    return np.array(dataX), np.array(dataY)\n",
    "\n",
    "# Split the dataset into input (X) and output (y) arrays\n",
    "X_train, y_train = create_dataset(train_df.values, time_step=10)\n",
    "X_test, y_test = create_dataset(test_df.values, time_step=10)\n"
   ]
  },
  {
   "cell_type": "code",
   "execution_count": 58,
   "metadata": {},
   "outputs": [],
   "source": [
    "X_train = X_train.astype('float32')\n",
    "y_train = y_train.astype('float32')\n",
    "X_test = X_test.astype('float32')\n",
    "y_test = y_test.astype('float32')  "
   ]
  },
  {
   "cell_type": "code",
   "execution_count": 59,
   "metadata": {},
   "outputs": [
    {
     "data": {
      "text/plain": [
       "((640, 10), (640,), (153, 10), (153,))"
      ]
     },
     "execution_count": 59,
     "metadata": {},
     "output_type": "execute_result"
    }
   ],
   "source": [
    "X_train.shape, y_train.shape, X_test.shape, y_test.shape  "
   ]
  },
  {
   "attachments": {},
   "cell_type": "markdown",
   "metadata": {},
   "source": [
    ">> LSTM for Time Series Prediction"
   ]
  },
  {
   "cell_type": "code",
   "execution_count": 60,
   "metadata": {},
   "outputs": [],
   "source": [
    "from keras.models import Sequential\n",
    "from keras.layers import LSTM, Dense\n",
    "\n",
    "# from tensorflow.keras.models import Sequential\n",
    "# from tensorflow.keras.layers import Dense\n",
    "# from tensorflow.keras.layers import LSTM"
   ]
  },
  {
   "cell_type": "code",
   "execution_count": 61,
   "metadata": {},
   "outputs": [],
   "source": [
    "\n",
    "# build the LSTM model\n",
    "model = Sequential()\n",
    "model.add(LSTM(50, return_sequences=True, input_shape=(X_train.shape[1], 1)))\n",
    "model.add(LSTM(50, return_sequences=True))\n",
    "model.add(LSTM(50))\n",
    "model.add(Dense(1))\n",
    "model.compile(loss='mean_squared_error', optimizer='adam')\n"
   ]
  },
  {
   "cell_type": "code",
   "execution_count": 62,
   "metadata": {},
   "outputs": [
    {
     "name": "stdout",
     "output_type": "stream",
     "text": [
      "Epoch 1/100\n",
      "10/10 [==============================] - 11s 264ms/step - loss: 0.0465 - val_loss: 0.0150\n",
      "Epoch 2/100\n",
      "10/10 [==============================] - 0s 26ms/step - loss: 0.0138 - val_loss: 0.0104\n",
      "Epoch 3/100\n",
      "10/10 [==============================] - 0s 27ms/step - loss: 0.0098 - val_loss: 0.0014\n",
      "Epoch 4/100\n",
      "10/10 [==============================] - 0s 36ms/step - loss: 0.0057 - val_loss: 0.0022\n",
      "Epoch 5/100\n",
      "10/10 [==============================] - 0s 43ms/step - loss: 0.0042 - val_loss: 7.0471e-04\n",
      "Epoch 6/100\n",
      "10/10 [==============================] - 0s 27ms/step - loss: 0.0039 - val_loss: 8.7860e-04\n",
      "Epoch 7/100\n",
      "10/10 [==============================] - 0s 27ms/step - loss: 0.0038 - val_loss: 0.0011\n",
      "Epoch 8/100\n",
      "10/10 [==============================] - 0s 27ms/step - loss: 0.0037 - val_loss: 6.0640e-04\n",
      "Epoch 9/100\n",
      "10/10 [==============================] - 0s 27ms/step - loss: 0.0037 - val_loss: 8.1228e-04\n",
      "Epoch 10/100\n",
      "10/10 [==============================] - 0s 26ms/step - loss: 0.0037 - val_loss: 8.1656e-04\n",
      "Epoch 11/100\n",
      "10/10 [==============================] - 0s 26ms/step - loss: 0.0037 - val_loss: 6.3433e-04\n",
      "Epoch 12/100\n",
      "10/10 [==============================] - 0s 27ms/step - loss: 0.0037 - val_loss: 6.3020e-04\n",
      "Epoch 13/100\n",
      "10/10 [==============================] - 0s 26ms/step - loss: 0.0037 - val_loss: 6.9144e-04\n",
      "Epoch 14/100\n",
      "10/10 [==============================] - 0s 27ms/step - loss: 0.0036 - val_loss: 8.5200e-04\n",
      "Epoch 15/100\n",
      "10/10 [==============================] - 0s 37ms/step - loss: 0.0036 - val_loss: 6.3820e-04\n",
      "Epoch 16/100\n",
      "10/10 [==============================] - 0s 27ms/step - loss: 0.0036 - val_loss: 7.9799e-04\n",
      "Epoch 17/100\n",
      "10/10 [==============================] - 0s 27ms/step - loss: 0.0037 - val_loss: 8.6149e-04\n",
      "Epoch 18/100\n",
      "10/10 [==============================] - 0s 26ms/step - loss: 0.0037 - val_loss: 6.0179e-04\n",
      "Epoch 19/100\n",
      "10/10 [==============================] - 0s 26ms/step - loss: 0.0036 - val_loss: 5.8103e-04\n",
      "Epoch 20/100\n",
      "10/10 [==============================] - 0s 27ms/step - loss: 0.0036 - val_loss: 7.0124e-04\n",
      "Epoch 21/100\n",
      "10/10 [==============================] - 0s 27ms/step - loss: 0.0036 - val_loss: 7.3636e-04\n",
      "Epoch 22/100\n",
      "10/10 [==============================] - 0s 27ms/step - loss: 0.0036 - val_loss: 6.5073e-04\n",
      "Epoch 23/100\n",
      "10/10 [==============================] - 0s 42ms/step - loss: 0.0036 - val_loss: 8.8902e-04\n",
      "Epoch 24/100\n",
      "10/10 [==============================] - 0s 27ms/step - loss: 0.0036 - val_loss: 7.5035e-04\n",
      "Epoch 25/100\n",
      "10/10 [==============================] - 0s 35ms/step - loss: 0.0036 - val_loss: 8.1749e-04\n",
      "Epoch 26/100\n",
      "10/10 [==============================] - 0s 27ms/step - loss: 0.0036 - val_loss: 7.6712e-04\n",
      "Epoch 27/100\n",
      "10/10 [==============================] - 0s 27ms/step - loss: 0.0036 - val_loss: 8.9801e-04\n",
      "Epoch 28/100\n",
      "10/10 [==============================] - 0s 26ms/step - loss: 0.0036 - val_loss: 6.7832e-04\n",
      "Epoch 29/100\n",
      "10/10 [==============================] - 0s 26ms/step - loss: 0.0036 - val_loss: 7.9580e-04\n",
      "Epoch 30/100\n",
      "10/10 [==============================] - 0s 27ms/step - loss: 0.0035 - val_loss: 8.1997e-04\n",
      "Epoch 31/100\n",
      "10/10 [==============================] - 0s 27ms/step - loss: 0.0036 - val_loss: 5.9918e-04\n",
      "Epoch 32/100\n",
      "10/10 [==============================] - 0s 27ms/step - loss: 0.0036 - val_loss: 6.7373e-04\n",
      "Epoch 33/100\n",
      "10/10 [==============================] - 0s 27ms/step - loss: 0.0036 - val_loss: 8.5451e-04\n",
      "Epoch 34/100\n",
      "10/10 [==============================] - 0s 39ms/step - loss: 0.0036 - val_loss: 8.3567e-04\n",
      "Epoch 35/100\n",
      "10/10 [==============================] - 0s 27ms/step - loss: 0.0036 - val_loss: 8.3234e-04\n",
      "Epoch 36/100\n",
      "10/10 [==============================] - 0s 27ms/step - loss: 0.0035 - val_loss: 5.4203e-04\n",
      "Epoch 37/100\n",
      "10/10 [==============================] - 0s 27ms/step - loss: 0.0035 - val_loss: 5.2660e-04\n",
      "Epoch 38/100\n",
      "10/10 [==============================] - 0s 26ms/step - loss: 0.0035 - val_loss: 5.5987e-04\n",
      "Epoch 39/100\n",
      "10/10 [==============================] - 0s 27ms/step - loss: 0.0035 - val_loss: 5.2971e-04\n",
      "Epoch 40/100\n",
      "10/10 [==============================] - 0s 27ms/step - loss: 0.0035 - val_loss: 5.1657e-04\n",
      "Epoch 41/100\n",
      "10/10 [==============================] - 0s 34ms/step - loss: 0.0036 - val_loss: 5.6778e-04\n",
      "Epoch 42/100\n",
      "10/10 [==============================] - 0s 30ms/step - loss: 0.0035 - val_loss: 9.0529e-04\n",
      "Epoch 43/100\n",
      "10/10 [==============================] - 0s 37ms/step - loss: 0.0035 - val_loss: 6.4689e-04\n",
      "Epoch 44/100\n",
      "10/10 [==============================] - 0s 27ms/step - loss: 0.0035 - val_loss: 5.4658e-04\n",
      "Epoch 45/100\n",
      "10/10 [==============================] - 0s 26ms/step - loss: 0.0035 - val_loss: 6.0909e-04\n",
      "Epoch 46/100\n",
      "10/10 [==============================] - 0s 27ms/step - loss: 0.0034 - val_loss: 7.6734e-04\n",
      "Epoch 47/100\n",
      "10/10 [==============================] - 0s 27ms/step - loss: 0.0034 - val_loss: 7.0814e-04\n",
      "Epoch 48/100\n",
      "10/10 [==============================] - 0s 27ms/step - loss: 0.0035 - val_loss: 9.2942e-04\n",
      "Epoch 49/100\n",
      "10/10 [==============================] - 0s 27ms/step - loss: 0.0035 - val_loss: 9.2961e-04\n",
      "Epoch 50/100\n",
      "10/10 [==============================] - 0s 26ms/step - loss: 0.0035 - val_loss: 6.1998e-04\n",
      "Epoch 51/100\n",
      "10/10 [==============================] - 0s 27ms/step - loss: 0.0035 - val_loss: 4.7862e-04\n",
      "Epoch 52/100\n",
      "10/10 [==============================] - 0s 27ms/step - loss: 0.0034 - val_loss: 4.8580e-04\n",
      "Epoch 53/100\n",
      "10/10 [==============================] - 0s 27ms/step - loss: 0.0034 - val_loss: 4.7279e-04\n",
      "Epoch 54/100\n",
      "10/10 [==============================] - 0s 37ms/step - loss: 0.0033 - val_loss: 5.0255e-04\n",
      "Epoch 55/100\n",
      "10/10 [==============================] - 0s 26ms/step - loss: 0.0033 - val_loss: 5.2976e-04\n",
      "Epoch 56/100\n",
      "10/10 [==============================] - 0s 27ms/step - loss: 0.0033 - val_loss: 4.8598e-04\n",
      "Epoch 57/100\n",
      "10/10 [==============================] - 0s 27ms/step - loss: 0.0033 - val_loss: 4.6913e-04\n",
      "Epoch 58/100\n",
      "10/10 [==============================] - 0s 27ms/step - loss: 0.0033 - val_loss: 6.1587e-04\n",
      "Epoch 59/100\n",
      "10/10 [==============================] - 0s 26ms/step - loss: 0.0033 - val_loss: 4.8519e-04\n",
      "Epoch 60/100\n",
      "10/10 [==============================] - 0s 32ms/step - loss: 0.0032 - val_loss: 5.9471e-04\n",
      "Epoch 61/100\n",
      "10/10 [==============================] - 0s 30ms/step - loss: 0.0033 - val_loss: 3.9451e-04\n",
      "Epoch 62/100\n",
      "10/10 [==============================] - 0s 27ms/step - loss: 0.0033 - val_loss: 4.2947e-04\n",
      "Epoch 63/100\n",
      "10/10 [==============================] - 0s 26ms/step - loss: 0.0032 - val_loss: 4.4370e-04\n",
      "Epoch 64/100\n",
      "10/10 [==============================] - 0s 26ms/step - loss: 0.0033 - val_loss: 4.8268e-04\n",
      "Epoch 65/100\n",
      "10/10 [==============================] - 0s 37ms/step - loss: 0.0033 - val_loss: 7.6252e-04\n",
      "Epoch 66/100\n",
      "10/10 [==============================] - 0s 27ms/step - loss: 0.0032 - val_loss: 4.2802e-04\n",
      "Epoch 67/100\n",
      "10/10 [==============================] - 0s 26ms/step - loss: 0.0033 - val_loss: 4.7863e-04\n",
      "Epoch 68/100\n",
      "10/10 [==============================] - 0s 26ms/step - loss: 0.0033 - val_loss: 9.2932e-04\n",
      "Epoch 69/100\n",
      "10/10 [==============================] - 0s 26ms/step - loss: 0.0034 - val_loss: 4.3375e-04\n",
      "Epoch 70/100\n",
      "10/10 [==============================] - 0s 26ms/step - loss: 0.0032 - val_loss: 3.3643e-04\n",
      "Epoch 71/100\n",
      "10/10 [==============================] - 0s 26ms/step - loss: 0.0032 - val_loss: 4.7041e-04\n",
      "Epoch 72/100\n",
      "10/10 [==============================] - 0s 27ms/step - loss: 0.0032 - val_loss: 2.9975e-04\n",
      "Epoch 73/100\n",
      "10/10 [==============================] - 0s 29ms/step - loss: 0.0031 - val_loss: 3.9446e-04\n",
      "Epoch 74/100\n",
      "10/10 [==============================] - 0s 28ms/step - loss: 0.0031 - val_loss: 3.6166e-04\n",
      "Epoch 75/100\n",
      "10/10 [==============================] - 0s 44ms/step - loss: 0.0032 - val_loss: 3.5570e-04\n",
      "Epoch 76/100\n",
      "10/10 [==============================] - 0s 28ms/step - loss: 0.0031 - val_loss: 3.0741e-04\n",
      "Epoch 77/100\n",
      "10/10 [==============================] - 0s 28ms/step - loss: 0.0031 - val_loss: 2.8940e-04\n",
      "Epoch 78/100\n",
      "10/10 [==============================] - 0s 27ms/step - loss: 0.0031 - val_loss: 3.2432e-04\n",
      "Epoch 79/100\n",
      "10/10 [==============================] - 0s 40ms/step - loss: 0.0031 - val_loss: 6.1972e-04\n",
      "Epoch 80/100\n",
      "10/10 [==============================] - 0s 26ms/step - loss: 0.0033 - val_loss: 3.4420e-04\n",
      "Epoch 81/100\n",
      "10/10 [==============================] - 0s 26ms/step - loss: 0.0033 - val_loss: 3.5300e-04\n",
      "Epoch 82/100\n",
      "10/10 [==============================] - 0s 26ms/step - loss: 0.0033 - val_loss: 2.7847e-04\n",
      "Epoch 83/100\n",
      "10/10 [==============================] - 0s 26ms/step - loss: 0.0033 - val_loss: 9.8633e-04\n",
      "Epoch 84/100\n",
      "10/10 [==============================] - 0s 26ms/step - loss: 0.0032 - val_loss: 3.2417e-04\n",
      "Epoch 85/100\n",
      "10/10 [==============================] - 0s 37ms/step - loss: 0.0031 - val_loss: 2.7359e-04\n",
      "Epoch 86/100\n",
      "10/10 [==============================] - 0s 26ms/step - loss: 0.0031 - val_loss: 3.6516e-04\n",
      "Epoch 87/100\n",
      "10/10 [==============================] - 0s 26ms/step - loss: 0.0031 - val_loss: 2.6064e-04\n",
      "Epoch 88/100\n",
      "10/10 [==============================] - 0s 26ms/step - loss: 0.0031 - val_loss: 3.6002e-04\n",
      "Epoch 89/100\n",
      "10/10 [==============================] - 0s 26ms/step - loss: 0.0030 - val_loss: 2.7326e-04\n",
      "Epoch 90/100\n",
      "10/10 [==============================] - 0s 26ms/step - loss: 0.0030 - val_loss: 2.6956e-04\n",
      "Epoch 91/100\n",
      "10/10 [==============================] - 0s 26ms/step - loss: 0.0030 - val_loss: 2.5256e-04\n",
      "Epoch 92/100\n",
      "10/10 [==============================] - 0s 27ms/step - loss: 0.0030 - val_loss: 2.4135e-04\n",
      "Epoch 93/100\n",
      "10/10 [==============================] - 0s 26ms/step - loss: 0.0030 - val_loss: 2.7286e-04\n",
      "Epoch 94/100\n",
      "10/10 [==============================] - 0s 26ms/step - loss: 0.0030 - val_loss: 2.4637e-04\n",
      "Epoch 95/100\n",
      "10/10 [==============================] - 0s 26ms/step - loss: 0.0030 - val_loss: 3.3180e-04\n",
      "Epoch 96/100\n",
      "10/10 [==============================] - 0s 26ms/step - loss: 0.0030 - val_loss: 2.4892e-04\n",
      "Epoch 97/100\n",
      "10/10 [==============================] - 0s 38ms/step - loss: 0.0031 - val_loss: 2.3643e-04\n",
      "Epoch 98/100\n",
      "10/10 [==============================] - 5s 516ms/step - loss: 0.0032 - val_loss: 2.5926e-04\n",
      "Epoch 99/100\n",
      "10/10 [==============================] - 2s 250ms/step - loss: 0.0031 - val_loss: 4.2303e-04\n",
      "Epoch 100/100\n",
      "10/10 [==============================] - 2s 186ms/step - loss: 0.0031 - val_loss: 3.2418e-04\n",
      "20/20 [==============================] - 8s 21ms/step\n",
      "5/5 [==============================] - 5s 18ms/step\n"
     ]
    }
   ],
   "source": [
    "# train the model\n",
    "model.fit(X_train, y_train, validation_data=(X_test, y_test), epochs=100, batch_size=64, verbose=1)\n",
    "\n",
    "# evaluate the model\n",
    "train_predict = model.predict(X_train)\n",
    "test_predict = model.predict(X_test) "
   ]
  },
  {
   "cell_type": "code",
   "execution_count": 63,
   "metadata": {},
   "outputs": [
    {
     "data": {
      "text/plain": [
       "(640, 1)"
      ]
     },
     "execution_count": 63,
     "metadata": {},
     "output_type": "execute_result"
    }
   ],
   "source": [
    "train_predict.shape"
   ]
  },
  {
   "cell_type": "code",
   "execution_count": 64,
   "metadata": {},
   "outputs": [
    {
     "data": {
      "text/plain": [
       "(640, 1)"
      ]
     },
     "execution_count": 64,
     "metadata": {},
     "output_type": "execute_result"
    }
   ],
   "source": [
    "train_predict.shape"
   ]
  },
  {
   "cell_type": "code",
   "execution_count": 65,
   "metadata": {},
   "outputs": [],
   "source": [
    "# invert the scaling\n",
    "train_predict = scaler.inverse_transform(train_predict)\n",
    "y_train = y_train.reshape(-1, 1) #check why this is \n",
    "y_train = scaler.inverse_transform(y_train)\n",
    "test_predict = scaler.inverse_transform(test_predict)\n",
    "y_test = y_test.reshape(-1, 1)  #check why this is \n",
    "y_test = scaler.inverse_transform(y_test)\n",
    "\n"
   ]
  },
  {
   "cell_type": "code",
   "execution_count": 66,
   "metadata": {},
   "outputs": [
    {
     "name": "stdout",
     "output_type": "stream",
     "text": [
      "Train RMSE: 6.41\n",
      "Test RMSE: 2.08\n"
     ]
    }
   ],
   "source": [
    "# calculate root mean squared error\n",
    "from sklearn.metrics import mean_squared_error\n",
    "import math \n",
    "train_rmse = math.sqrt(mean_squared_error(y_train, train_predict))\n",
    "test_rmse = math.sqrt(mean_squared_error(y_test, test_predict))\n",
    "print('Train RMSE: %.2f' % (train_rmse))\n",
    "print('Test RMSE: %.2f' % (test_rmse))"
   ]
  },
  {
   "cell_type": "code",
   "execution_count": null,
   "metadata": {},
   "outputs": [],
   "source": []
  },
  {
   "attachments": {},
   "cell_type": "markdown",
   "metadata": {},
   "source": [
    "\n",
    "<a id=\"5\"></a> <br>\n",
    "## Saving the Model"
   ]
  },
  {
   "cell_type": "code",
   "execution_count": 67,
   "metadata": {},
   "outputs": [
    {
     "data": {
      "text/plain": [
       "['models/scaler.joblib']"
      ]
     },
     "execution_count": 67,
     "metadata": {},
     "output_type": "execute_result"
    }
   ],
   "source": [
    "#save fitted scaler\n",
    "import joblib\n",
    "\n",
    "# save the fitted scaler to disk\n",
    "joblib.dump(scaler, 'models/scaler.joblib')"
   ]
  },
  {
   "cell_type": "code",
   "execution_count": 68,
   "metadata": {},
   "outputs": [
    {
     "name": "stdout",
     "output_type": "stream",
     "text": [
      "Model saved to models/crude_price.h5\n"
     ]
    }
   ],
   "source": [
    "#saving the model\n",
    "\n",
    "from keras.models import load_model\n",
    "\n",
    "def save_model(model, filename):\n",
    "    \"\"\"\n",
    "    Save a trained scikit-learn model to disk using joblib.\n",
    "    \"\"\"\n",
    "    try: \n",
    "        model.save(filename)\n",
    "        print(f\"Model saved to {filename}\")\n",
    "    except Exception as e:\n",
    "        print(f\"Error saving model to {filename}: {e}\")\n",
    "\n",
    "save_model(model, 'models/crude_price.h5')\n"
   ]
  },
  {
   "cell_type": "code",
   "execution_count": 69,
   "metadata": {},
   "outputs": [],
   "source": [
    "# target_date = pd.to_datetime(\"2022-06-10\")\n",
    "# target_index = len(train_df)  # start by assuming the target date is after the last date in the training data\n",
    "# for i in range(len(train_df)):\n",
    "#     if train_df.loc[i, \"Date\"] >= target_date:\n",
    "#         target_index = i\n",
    "#         break\n",
    "\n",
    "# time_steps = 10 \n",
    "# start_index = target_index - time_steps\n",
    "# if start_index < 0:\n",
    "#     raise ValueError(\"Not enough data to make prediction\")\n",
    "# sequence = train_df.iloc[start_index:target_index][\"Petrol (USD)\"].values\n",
    "\n",
    "# # pad the sequence with zeros if there are less than `time_steps` data points available\n",
    "# if len(sequence) < time_steps:\n",
    "#     sequence = np.pad(sequence, (time_steps - len(sequence), 0), mode=\"constant\", constant_values=0)\n",
    "\n",
    "# sequence = sequence.reshape(1, time_steps, 1)\n",
    "\n",
    "# predicted_price = model.predict(sequence)[0][0]\n",
    "# predicted_price = scaler.inverse_transform(predicted_price.reshape(1, -1))#[0][0] \n",
    "\n",
    "# print(f\"The Petrol Price for the year {target_date} is: USD{predicted_price} \")"
   ]
  },
  {
   "attachments": {},
   "cell_type": "markdown",
   "metadata": {},
   "source": [
    "<a id=\"6\"></a> <br>\n",
    "## Deploy the Model"
   ]
  },
  {
   "cell_type": "code",
   "execution_count": 70,
   "metadata": {},
   "outputs": [
    {
     "name": "stdout",
     "output_type": "stream",
     "text": [
      "1/1 [==============================] - 6s 6s/step\n",
      "The Petrol Price for the year 2020-12-10 00:00:00 is: USD[[108.71155]] \n"
     ]
    }
   ],
   "source": [
    "\n",
    "def predict_petrol_price(train_df, target_date, scaler, model:str): \n",
    "    # target_date = pd.to_datetime(target_date)\n",
    "    try:\n",
    "        target_date = pd.to_datetime(target_date)\n",
    "    except ValueError:\n",
    "        return \"Invalid date format. Please enter date in YYYY-MM-DD format.\"\n",
    "    \n",
    "    # if target_date < train_df[\"Date\"].min():\n",
    "    #     raise ValueError(\"Target date is earlier than first date in training data\")\n",
    "    \n",
    "    if target_date < train_df[\"Date\"].min():\n",
    "        return \"Target date is earlier than first date in training data\"\n",
    "    \n",
    "    target_index = len(train_df)  # start by assuming the target date is after the last date in the training data\n",
    "    \n",
    "    for i in range(len(train_df)):\n",
    "        if train_df.loc[i, \"Date\"] >= target_date:\n",
    "            target_index = i\n",
    "            break\n",
    "\n",
    "    time_steps = 10\n",
    "    start_index = target_index - time_steps\n",
    "    if start_index < 0:\n",
    "        raise ValueError(\"Not enough data to make prediction\")\n",
    "    sequence = train_df.iloc[start_index:target_index][\"Petrol (USD)\"].values\n",
    "\n",
    "    # pad the sequence with zeros if there are less than `time_steps` data points available\n",
    "    if len(sequence) < time_steps:\n",
    "        sequence = np.pad(sequence, (time_steps - len(sequence), 0), mode=\"constant\", constant_values=0)\n",
    "\n",
    "    sequence = sequence.reshape(1, time_steps, 1)\n",
    "    model = load_model(model)  \n",
    "    predicted_price = model.predict(sequence)[0][0]\n",
    "    if scaler == None:\n",
    "        scaler = MinMaxScaler(feature_range=(0, 1))  \n",
    "    predicted_price = scaler.inverse_transform(predicted_price.reshape(1, -1))\n",
    "    print(f\"The Petrol Price for the year {target_date} is: USD{predicted_price} \")\n",
    "    # return predicted_price #[0][0] \n",
    "\n",
    "\n",
    "target_date = input(\"Enter date in YYYY-MM-DD format: \")\n",
    "\n",
    "predict_petrol_price(train_df,  target_date, scaler, model = 'models/crude_price.h5')\n"
   ]
  },
  {
   "cell_type": "code",
   "execution_count": null,
   "metadata": {},
   "outputs": [],
   "source": []
  },
  {
   "cell_type": "code",
   "execution_count": null,
   "metadata": {},
   "outputs": [],
   "source": []
  },
  {
   "cell_type": "code",
   "execution_count": 71,
   "metadata": {},
   "outputs": [],
   "source": [
    "# def predict_petrol_price(): \n",
    "#     try:\n",
    "#         target_date = datetime.strptime(request.form['target_date'], '%Y-%m-%d')        \n",
    "#     except ValueError:\n",
    "#         return render_template('prediction.html', prediction_error='Invalid date format. Please enter date in YYYY-MM-DD format.')\n",
    "    \n",
    "#     if target_date < train_df[\"Date\"].min():\n",
    "#         return render_template('prediction.html', prediction_error='Target date is earlier than first date in training data')\n",
    "    \n",
    "#     for i in range(len(train_df)):\n",
    "#         # if train_df.loc[i, \"Date\"] >= target_date:\n",
    "#         if train_df.loc[i, \"Date\"] >= pd.Timestamp(target_date):\n",
    "#             target_index = i\n",
    "#             break\n",
    "\n",
    "#     time_steps = 10\n",
    "#     start_index = target_index - time_steps\n",
    "#     if start_index < 0:\n",
    "#         raise ValueError(\"Not enough data to make prediction\")\n",
    "#     sequence = train_df.iloc[start_index:target_index][\"Petrol (USD)\"].values\n",
    "\n",
    "#     # pad the sequence with zeros if there are less than `time_steps` data points available\n",
    "#     if len(sequence) < time_steps:\n",
    "#         sequence = np.pad(sequence, (time_steps - len(sequence), 0), mode=\"constant\", constant_values=0)\n",
    "\n",
    "#     sequence = sequence.reshape(1, time_steps, 1)\n",
    "#     # model = load_model(model)  \n",
    "#     predicted_price = model.predict(sequence)[0][0]\n",
    "#     if scaler == None:\n",
    "#         scaler = MinMaxScaler(feature_range=(0, 1))  \n",
    "#     predicted_price = scaler.inverse_transform(predicted_price.reshape(1, -1))\n",
    "#     prediction_str = \"${:,.2f}\".format(predicted_price[0][0])   # format prediction as currency string\n",
    "    \n",
    "#      # render prediction template with predicted price\n",
    "#     return render_template('prediction.html', predicted_price = prediction_str, target_date = target_date)"
   ]
  },
  {
   "cell_type": "code",
   "execution_count": null,
   "metadata": {},
   "outputs": [],
   "source": []
  },
  {
   "cell_type": "code",
   "execution_count": 72,
   "metadata": {},
   "outputs": [
    {
     "name": "stderr",
     "output_type": "stream",
     "text": [
      "2023-05-12 08:06:26,254 - INFO     - Executing shutdown due to inactivity...\n",
      "2023-05-12 08:06:30,621 - INFO     - Executing shutdown...\n",
      "2023-05-12 08:06:30,634 - ERROR    - Exception on /shutdown [GET]\n",
      "Traceback (most recent call last):\n",
      "  File \"c:\\Users\\Cornel\\anaconda3\\envs\\paul_flask\\lib\\site-packages\\flask\\app.py\", line 2528, in wsgi_app\n",
      "    response = self.full_dispatch_request()\n",
      "  File \"c:\\Users\\Cornel\\anaconda3\\envs\\paul_flask\\lib\\site-packages\\flask\\app.py\", line 1825, in full_dispatch_request\n",
      "    rv = self.handle_user_exception(e)\n",
      "  File \"c:\\Users\\Cornel\\anaconda3\\envs\\paul_flask\\lib\\site-packages\\flask\\app.py\", line 1823, in full_dispatch_request\n",
      "    rv = self.dispatch_request()\n",
      "  File \"c:\\Users\\Cornel\\anaconda3\\envs\\paul_flask\\lib\\site-packages\\flask\\app.py\", line 1799, in dispatch_request\n",
      "    return self.ensure_sync(self.view_functions[rule.endpoint])(**view_args)\n",
      "  File \"c:\\Users\\Cornel\\anaconda3\\envs\\paul_flask\\lib\\site-packages\\dtale\\app.py\", line 433, in shutdown\n",
      "    shutdown_server()\n",
      "  File \"c:\\Users\\Cornel\\anaconda3\\envs\\paul_flask\\lib\\site-packages\\dtale\\app.py\", line 419, in shutdown_server\n",
      "    raise RuntimeError(\"Not running with the Werkzeug Server\")\n",
      "RuntimeError: Not running with the Werkzeug Server\n"
     ]
    }
   ],
   "source": [
    "# def predict_petrol_price(): \n",
    "#     # target_date = pd.to_datetime(target_date) \n",
    "#     try:\n",
    "#         # target_date = pd.to_datetime(request.form['target_date']) \n",
    "#         target_date = datetime.strptime(request.form['target_date'], '%Y-%m-%d')        \n",
    "#     except ValueError:\n",
    "#         return render_template('prediction.html', prediction_error='Invalid date format. Please enter date in YYYY-MM-DD format.')\n",
    "#     target_date = pd.Timestamp(target_date)  # convert target_date to pd.Timestamp object\n",
    "#     # try:\n",
    "#     #     target_date = pd.to_datetime(target_date)\n",
    "#     # except ValueError:\n",
    "#     #     return \"Invalid date format. Please enter date in YYYY-MM-DD format.\"    \n",
    "#     # if target_date < train_df[\"Date\"].min():\n",
    "#     #     return \"Target date is earlier than first date in training data\"\n",
    "    \n",
    "#     if target_date < train_df[\"Date\"].min():\n",
    "#         return render_template('prediction.html', prediction_error='Target date is earlier than first date in training data')\n",
    "#     # elif not isinstance(target_date, pd.Timestamp):\n",
    "#     #     return render_template('prediction.html', prediction_error='Invalid date format. Please enter date in YYYY-MM-DD format.')\n",
    "#     # else:\n",
    "#     #     target_index = len(train_df)  # start by assuming the target date is after the last date in the training data\n",
    "\n",
    "#         # Rest of the code to predict petrol price\n",
    "\n",
    "#     target_index = len(train_df)  # start by assuming the target date is after the last date in the training data\n",
    "    \n",
    "#     for i in range(len(train_df)):\n",
    "#         # if train_df.loc[i, \"Date\"] >= target_date:\n",
    "#         if train_df.loc[i, \"Date\"] >= pd.Timestamp(target_date):\n",
    "#             target_index = i\n",
    "#             break\n",
    "\n",
    "#     time_steps = 10\n",
    "#     start_index = target_index - time_steps\n",
    "#     if start_index < 0:\n",
    "#         raise ValueError(\"Not enough data to make prediction\")\n",
    "#     sequence = train_df.iloc[start_index:target_index][\"Petrol (USD)\"].values\n",
    "\n",
    "#     # pad the sequence with zeros if there are less than `time_steps` data points available\n",
    "#     if len(sequence) < time_steps:\n",
    "#         sequence = np.pad(sequence, (time_steps - len(sequence), 0), mode=\"constant\", constant_values=0)\n",
    "\n",
    "#     sequence = sequence.reshape(1, time_steps, 1)\n",
    "#     # model = load_model(model)  \n",
    "#     predicted_price = model.predict(sequence)[0][0]\n",
    "#     if scaler == None:\n",
    "#         scaler = MinMaxScaler(feature_range=(0, 1))  \n",
    "#     predicted_price = scaler.inverse_transform(predicted_price.reshape(1, -1))\n",
    "#     prediction_str = \"${:,.2f}\".format(predicted_price[0][0])   # format prediction as currency string\n",
    "    \n",
    "#      # render prediction template with predicted price\n",
    "#     return render_template('prediction.html', predicted_price = prediction_str, target_date = target_date)"
   ]
  }
 ],
 "metadata": {
  "kernelspec": {
   "display_name": "base",
   "language": "python",
   "name": "python3"
  },
  "language_info": {
   "codemirror_mode": {
    "name": "ipython",
    "version": 3
   },
   "file_extension": ".py",
   "mimetype": "text/x-python",
   "name": "python",
   "nbconvert_exporter": "python",
   "pygments_lexer": "ipython3",
   "version": "3.10.11"
  },
  "orig_nbformat": 4,
  "vscode": {
   "interpreter": {
    "hash": "c1065e887cc437d9280cab66f73a21fdac543e65443791bfb846601e6c934655"
   }
  }
 },
 "nbformat": 4,
 "nbformat_minor": 2
}
